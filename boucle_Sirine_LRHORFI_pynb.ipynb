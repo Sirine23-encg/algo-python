{
  "nbformat": 4,
  "nbformat_minor": 0,
  "metadata": {
    "colab": {
      "provenance": []
    },
    "kernelspec": {
      "name": "python3",
      "display_name": "Python 3"
    },
    "language_info": {
      "name": "python"
    }
  },
  "cells": [
    {
      "cell_type": "code",
      "execution_count": 1,
      "metadata": {
        "colab": {
          "base_uri": "https://localhost:8080/"
        },
        "id": "Gts7T4WbeI4m",
        "outputId": "923e6eed-3ed2-4eff-d303-9845b8a6026d"
      },
      "outputs": [
        {
          "output_type": "stream",
          "name": "stdout",
          "text": [
            "0\n",
            "1\n",
            "2\n",
            "3\n",
            "4\n"
          ]
        }
      ],
      "source": [
        "count = 0\n",
        "while count < 5:\n",
        "    print(count)\n",
        "    count = count + 1\n",
        "#prints from 0 to 4\n"
      ]
    },
    {
      "cell_type": "code",
      "source": [
        "count = 0\n",
        "while count < 5:\n",
        "    print(count)\n",
        "    count = count + 1\n",
        "else:\n",
        "    print(count)"
      ],
      "metadata": {
        "colab": {
          "base_uri": "https://localhost:8080/"
        },
        "id": "YK8Njp6ghXTm",
        "outputId": "0d40539f-7c76-4219-a4cd-2f3b40065449"
      },
      "execution_count": 2,
      "outputs": [
        {
          "output_type": "stream",
          "name": "stdout",
          "text": [
            "0\n",
            "1\n",
            "2\n",
            "3\n",
            "4\n",
            "5\n"
          ]
        }
      ]
    },
    {
      "cell_type": "code",
      "source": [
        "count = 0\n",
        "while count < 5:\n",
        "    print(count)\n",
        "    count = count + 1\n",
        "    if count == 3:\n",
        "        break\n",
        ""
      ],
      "metadata": {
        "colab": {
          "base_uri": "https://localhost:8080/"
        },
        "id": "8A9BVqYjhbup",
        "outputId": "dd3bcf21-9dd3-4128-99e9-1ad0087e81a6"
      },
      "execution_count": 3,
      "outputs": [
        {
          "output_type": "stream",
          "name": "stdout",
          "text": [
            "0\n",
            "1\n",
            "2\n"
          ]
        }
      ]
    },
    {
      "cell_type": "code",
      "source": [
        "numbers = [0, 1, 2, 3, 4, 5]\n",
        "for number in numbers: # number is temporary name to refer to the list's items, valid only inside this loop\n",
        "    print(number, \" \")"
      ],
      "metadata": {
        "colab": {
          "base_uri": "https://localhost:8080/"
        },
        "id": "BUU8bo0njAZR",
        "outputId": "29357f1d-94bd-4a19-ba76-c55b9d25d344"
      },
      "execution_count": 4,
      "outputs": [
        {
          "output_type": "stream",
          "name": "stdout",
          "text": [
            "0  \n",
            "1  \n",
            "2  \n",
            "3  \n",
            "4  \n",
            "5  \n"
          ]
        }
      ]
    },
    {
      "cell_type": "code",
      "source": [
        "person = {\n",
        "    'first_name':'Sirine',\n",
        "    'last_name':'LRHORFI',\n",
        "    'age':20,\n",
        "    'country':'morocco',\n",
        "    'is_marred':False,\n",
        "    'skills':['JavaScript', 'React', 'Node', 'MongoDB', 'Python'],\n",
        "    'address':{\n",
        "        'street':'Space street',\n",
        "        'zipcode':'46000'\n",
        "      'notes':20\n",
        "\n",
        "\n",
        "    }\n",
        "}\n",
        "for key in person:\n",
        "    print(key)\n",
        "\n",
        "for key, value in person.items():\n",
        "    print(key, value) # this way we get both keys and values printed out\n"
      ],
      "metadata": {
        "colab": {
          "base_uri": "https://localhost:8080/"
        },
        "id": "Hnz029syjpjo",
        "outputId": "7d4372f1-8038-4335-e198-24398264e51f"
      },
      "execution_count": 10,
      "outputs": [
        {
          "output_type": "stream",
          "name": "stdout",
          "text": [
            "first_name\n",
            "last_name\n",
            "age\n",
            "country\n",
            "is_marred\n",
            "skills\n",
            "address\n",
            "first_name Sirine\n",
            "last_name LRHORFI\n",
            "age 20\n",
            "country morocco\n",
            "is_marred False\n",
            "skills ['JavaScript', 'React', 'Node', 'MongoDB', 'Python']\n",
            "address {'street': 'Space street', 'zipcode': '46000'}\n"
          ]
        }
      ]
    },
    {
      "cell_type": "code",
      "source": [
        "person1 = {\n",
        "    'first_name':'Sirine',\n",
        "    'last_name':'LRHORFI',\n",
        "    'age':20,\n",
        "    'country':'morocco',\n",
        "    'is_marred':False,\n",
        "    'skills':['JavaScript', 'React', 'Node', 'MongoDB', 'Python'],\n",
        "    'address':{\n",
        "        'street':'Space street',\n",
        "        'zipcode':'46000'\n",
        "     'notes':[20,20,20]\n",
        "\n",
        "     }\n",
        "}\n",
        "\n",
        "person2 = {\n",
        "    'first_name':'Sirine',\n",
        "    'last_name':'LRHORFI',\n",
        "    'age':20,\n",
        "    'country':'morocco',\n",
        "    'is_marred':False,\n",
        "    'skills':['JavaScript', 'React', 'Node', 'MongoDB', 'Python'],\n",
        "    'address':{\n",
        "        'street':'Space street',\n",
        "        'zipcode':'46000'\n",
        "     'notes':[20,20,20]\n",
        "\n",
        "    }\n",
        "}\n",
        ""
      ],
      "metadata": {
        "colab": {
          "base_uri": "https://localhost:8080/",
          "height": 105
        },
        "id": "FnKtdU1dpXYk",
        "outputId": "9ee6031c-0bb0-40d7-ddd1-5919850662c8"
      },
      "execution_count": 11,
      "outputs": [
        {
          "output_type": "error",
          "ename": "SyntaxError",
          "evalue": "invalid syntax (<ipython-input-11-5014f80fedb4>, line 11)",
          "traceback": [
            "\u001b[0;36m  File \u001b[0;32m\"<ipython-input-11-5014f80fedb4>\"\u001b[0;36m, line \u001b[0;32m11\u001b[0m\n\u001b[0;31m    'notes':[20,20,20]\u001b[0m\n\u001b[0m           ^\u001b[0m\n\u001b[0;31mSyntaxError\u001b[0m\u001b[0;31m:\u001b[0m invalid syntax\n"
          ]
        }
      ]
    }
  ]
}